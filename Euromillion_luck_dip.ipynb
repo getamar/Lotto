{
 "cells": [
  {
   "cell_type": "code",
   "execution_count": 2,
   "metadata": {
    "collapsed": true
   },
   "outputs": [],
   "source": [
    "#This jupyter notebook explains how to write a simple python code for Euromillion(c) lucky dip number generator\n",
    "\n",
    "#Euromillion is one of the lottery played across many european countries\n",
    "#you can choose 5 numebr out of 50 numbers from 1to 50 and also you can choose 2 numbers from 1to 12 lucky stars.\n"
   ]
  },
  {
   "cell_type": "code",
   "execution_count": 12,
   "metadata": {
    "collapsed": true
   },
   "outputs": [],
   "source": [
    "import itertools\n",
    "import random"
   ]
  },
  {
   "cell_type": "code",
   "execution_count": 21,
   "metadata": {
    "collapsed": true
   },
   "outputs": [],
   "source": [
    "def gen_lotto():\n",
    "    lotto_numbers = list(range(1,51))\n",
    "    lucky_star_numbers = list(range(1,13))\n",
    "    all_5_combo = list(itertools.combinations(lotto_numbers,5))\n",
    "    all_2_lucky = list(itertools.combinations(lucky_star_numbers,2))\n",
    "    random.shuffle(all_5_combo)\n",
    "    random.shuffle(all_2_lucky)\n",
    "    my_5 = list(all_5_combo[0])\n",
    "    my_2 = list(all_2_lucky[0])\n",
    "    \n",
    "    print 'lotto numbers:', my_5\n",
    "    print 'star numbers:', my_2\n",
    "    print 'good luck!'"
   ]
  },
  {
   "cell_type": "code",
   "execution_count": 22,
   "metadata": {
    "collapsed": false
   },
   "outputs": [
    {
     "name": "stdout",
     "output_type": "stream",
     "text": [
      "lotto numbers: [1, 22, 34, 39, 50]\n",
      "star numbers: [4, 12]\n",
      "good luck!\n"
     ]
    }
   ],
   "source": [
    "gen_lotto()"
   ]
  },
  {
   "cell_type": "code",
   "execution_count": 23,
   "metadata": {
    "collapsed": false
   },
   "outputs": [
    {
     "data": {
      "text/plain": [
       "66"
      ]
     },
     "execution_count": 23,
     "metadata": {},
     "output_type": "execute_result"
    }
   ],
   "source": [
    "len(list(itertools.combinations(list(range(1,13)),2)))\n",
    "#66 is the total number combination possible with 2 lucky stars"
   ]
  },
  {
   "cell_type": "code",
   "execution_count": 24,
   "metadata": {
    "collapsed": false
   },
   "outputs": [
    {
     "data": {
      "text/plain": [
       "2118760"
      ]
     },
     "execution_count": 24,
     "metadata": {},
     "output_type": "execute_result"
    }
   ],
   "source": [
    "len(list(itertools.combinations(list(range(1,51)),5)))\n",
    "#2118760 is the main number combination possible"
   ]
  },
  {
   "cell_type": "code",
   "execution_count": 25,
   "metadata": {
    "collapsed": false
   },
   "outputs": [
    {
     "data": {
      "text/plain": [
       "139838160"
      ]
     },
     "execution_count": 25,
     "metadata": {},
     "output_type": "execute_result"
    }
   ],
   "source": [
    "66 * 2118760\n",
    "#139838160 is the main number and lucky star combinations possible. \n",
    "#If the ticket is £1 you may need so many combinations to hit the jackpot"
   ]
  },
  {
   "cell_type": "code",
   "execution_count": null,
   "metadata": {
    "collapsed": true
   },
   "outputs": [],
   "source": []
  }
 ],
 "metadata": {
  "kernelspec": {
   "display_name": "Python 2",
   "language": "python",
   "name": "python2"
  },
  "language_info": {
   "codemirror_mode": {
    "name": "ipython",
    "version": 2
   },
   "file_extension": ".py",
   "mimetype": "text/x-python",
   "name": "python",
   "nbconvert_exporter": "python",
   "pygments_lexer": "ipython2",
   "version": "2.7.13"
  }
 },
 "nbformat": 4,
 "nbformat_minor": 2
}
